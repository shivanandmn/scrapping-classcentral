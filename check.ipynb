{
 "cells": [
  {
   "cell_type": "code",
   "execution_count": 1,
   "metadata": {},
   "outputs": [
    {
     "name": "stderr",
     "output_type": "stream",
     "text": [
      "C:\\Users\\sigmoid\\AppData\\Local\\Temp\\ipykernel_14832\\4080736814.py:1: DeprecationWarning: \n",
      "Pyarrow will become a required dependency of pandas in the next major release of pandas (pandas 3.0),\n",
      "(to allow more performant data types, such as the Arrow string type, and better interoperability with other libraries)\n",
      "but was not found to be installed on your system.\n",
      "If this would cause problems for you,\n",
      "please provide us feedback at https://github.com/pandas-dev/pandas/issues/54466\n",
      "        \n",
      "  import pandas as pd\n"
     ]
    }
   ],
   "source": [
    "import pandas as pd"
   ]
  },
  {
   "cell_type": "code",
   "execution_count": 7,
   "metadata": {},
   "outputs": [
    {
     "data": {
      "text/html": [
       "<div>\n",
       "<style scoped>\n",
       "    .dataframe tbody tr th:only-of-type {\n",
       "        vertical-align: middle;\n",
       "    }\n",
       "\n",
       "    .dataframe tbody tr th {\n",
       "        vertical-align: top;\n",
       "    }\n",
       "\n",
       "    .dataframe thead th {\n",
       "        text-align: right;\n",
       "    }\n",
       "</style>\n",
       "<table border=\"1\" class=\"dataframe\">\n",
       "  <thead>\n",
       "    <tr style=\"text-align: right;\">\n",
       "      <th></th>\n",
       "      <th>course_url</th>\n",
       "      <th>course_name</th>\n",
       "      <th>instructor_name</th>\n",
       "      <th>course_provider</th>\n",
       "      <th>course_level</th>\n",
       "      <th>course_certificate</th>\n",
       "      <th>course_subject</th>\n",
       "      <th>course_is_university</th>\n",
       "      <th>course_avg_rating</th>\n",
       "      <th>course_num_rating</th>\n",
       "      <th>...</th>\n",
       "      <th>course_provider_url</th>\n",
       "      <th>description</th>\n",
       "      <th>duration</th>\n",
       "      <th>start_date</th>\n",
       "      <th>pricing</th>\n",
       "      <th>image_url</th>\n",
       "      <th>rating</th>\n",
       "      <th>is_free</th>\n",
       "      <th>language</th>\n",
       "      <th>subject_title</th>\n",
       "    </tr>\n",
       "  </thead>\n",
       "  <tbody>\n",
       "    <tr>\n",
       "      <th>0</th>\n",
       "      <td>https://www.classcentral.com/course/informatio...</td>\n",
       "      <td>Unlocking Information Security I: From Cryptog...</td>\n",
       "      <td>NaN</td>\n",
       "      <td>edX</td>\n",
       "      <td>intermediate</td>\n",
       "      <td>True</td>\n",
       "      <td>Information Security (InfoSec)</td>\n",
       "      <td>True</td>\n",
       "      <td>4.75078</td>\n",
       "      <td>321</td>\n",
       "      <td>...</td>\n",
       "      <td>NaN</td>\n",
       "      <td>Explore cybersecurity fundamentals, from crypt...</td>\n",
       "      <td>5 weeks, 4-6 hours a week</td>\n",
       "      <td>On-Demand</td>\n",
       "      <td>Free Online Course (Audit)</td>\n",
       "      <td>https://d3f1iyfxxz8i1e.cloudfront.net/courses/...</td>\n",
       "      <td>5 out of 5 stars</td>\n",
       "      <td>Yes</td>\n",
       "      <td>English</td>\n",
       "      <td>NaN</td>\n",
       "    </tr>\n",
       "    <tr>\n",
       "      <th>1</th>\n",
       "      <td>https://www.classcentral.com/course/computer-p...</td>\n",
       "      <td>Unlocking Information Security II: An Internet...</td>\n",
       "      <td>NaN</td>\n",
       "      <td>edX</td>\n",
       "      <td>intermediate</td>\n",
       "      <td>True</td>\n",
       "      <td>Information Security (InfoSec)</td>\n",
       "      <td>True</td>\n",
       "      <td>4.80769</td>\n",
       "      <td>52</td>\n",
       "      <td>...</td>\n",
       "      <td>NaN</td>\n",
       "      <td>Continue learning how systems are hacked and d...</td>\n",
       "      <td>7 weeks, 4-6 hours a week</td>\n",
       "      <td>On-Demand</td>\n",
       "      <td>Free Online Course (Audit)</td>\n",
       "      <td>https://d3f1iyfxxz8i1e.cloudfront.net/courses/...</td>\n",
       "      <td>5 out of 5 stars</td>\n",
       "      <td>Yes</td>\n",
       "      <td>English</td>\n",
       "      <td>NaN</td>\n",
       "    </tr>\n",
       "    <tr>\n",
       "      <th>2</th>\n",
       "      <td>https://www.classcentral.com/course/openlearn-...</td>\n",
       "      <td>Information security</td>\n",
       "      <td>NaN</td>\n",
       "      <td>OpenLearn</td>\n",
       "      <td>advanced</td>\n",
       "      <td>True</td>\n",
       "      <td>Information Security (InfoSec)</td>\n",
       "      <td>True</td>\n",
       "      <td>4.88889</td>\n",
       "      <td>9</td>\n",
       "      <td>...</td>\n",
       "      <td>NaN</td>\n",
       "      <td>Information security underpins the commercial ...</td>\n",
       "      <td>10 hours</td>\n",
       "      <td>On-Demand</td>\n",
       "      <td>Free Certificate</td>\n",
       "      <td>https://d3f1iyfxxz8i1e.cloudfront.net/courses/...</td>\n",
       "      <td>5 out of 5 stars</td>\n",
       "      <td>Yes</td>\n",
       "      <td>English</td>\n",
       "      <td>NaN</td>\n",
       "    </tr>\n",
       "    <tr>\n",
       "      <th>3</th>\n",
       "      <td>https://www.classcentral.com/course/swayam-int...</td>\n",
       "      <td>Introduction to Cyber Security</td>\n",
       "      <td>Uttarakhand Open University, Haldwani, IGNOU</td>\n",
       "      <td>Swayam</td>\n",
       "      <td>NaN</td>\n",
       "      <td>True</td>\n",
       "      <td>Cybersecurity</td>\n",
       "      <td>True</td>\n",
       "      <td>4.64316</td>\n",
       "      <td>468</td>\n",
       "      <td>...</td>\n",
       "      <td>NaN</td>\n",
       "      <td>Comprehensive foundation in cyber security cov...</td>\n",
       "      <td>12 weeks</td>\n",
       "      <td>On-Demand</td>\n",
       "      <td>Free Online Course</td>\n",
       "      <td>https://d3f1iyfxxz8i1e.cloudfront.net/courses/...</td>\n",
       "      <td>4.5 out of 5 stars</td>\n",
       "      <td>Yes</td>\n",
       "      <td>English</td>\n",
       "      <td>NaN</td>\n",
       "    </tr>\n",
       "    <tr>\n",
       "      <th>4</th>\n",
       "      <td>https://www.classcentral.com/classroom/cybrary...</td>\n",
       "      <td>Ethical Hacking Course Certification</td>\n",
       "      <td>NaN</td>\n",
       "      <td>Cybrary</td>\n",
       "      <td>NaN</td>\n",
       "      <td>False</td>\n",
       "      <td>Ethical Hacking</td>\n",
       "      <td>False</td>\n",
       "      <td>4.35734</td>\n",
       "      <td>361</td>\n",
       "      <td>...</td>\n",
       "      <td>NaN</td>\n",
       "      <td>Master ethical hacking and penetration testing...</td>\n",
       "      <td>On-Demand</td>\n",
       "      <td>Free Video</td>\n",
       "      <td>NaN</td>\n",
       "      <td>https://d3f1iyfxxz8i1e.cloudfront.net/courses/...</td>\n",
       "      <td>4.5 out of 5 stars</td>\n",
       "      <td>No</td>\n",
       "      <td>English</td>\n",
       "      <td>NaN</td>\n",
       "    </tr>\n",
       "  </tbody>\n",
       "</table>\n",
       "<p>5 rows × 25 columns</p>\n",
       "</div>"
      ],
      "text/plain": [
       "                                          course_url  \\\n",
       "0  https://www.classcentral.com/course/informatio...   \n",
       "1  https://www.classcentral.com/course/computer-p...   \n",
       "2  https://www.classcentral.com/course/openlearn-...   \n",
       "3  https://www.classcentral.com/course/swayam-int...   \n",
       "4  https://www.classcentral.com/classroom/cybrary...   \n",
       "\n",
       "                                         course_name  \\\n",
       "0  Unlocking Information Security I: From Cryptog...   \n",
       "1  Unlocking Information Security II: An Internet...   \n",
       "2                               Information security   \n",
       "3                     Introduction to Cyber Security   \n",
       "4               Ethical Hacking Course Certification   \n",
       "\n",
       "                                instructor_name course_provider  course_level  \\\n",
       "0                                           NaN             edX  intermediate   \n",
       "1                                           NaN             edX  intermediate   \n",
       "2                                           NaN       OpenLearn      advanced   \n",
       "3  Uttarakhand Open University, Haldwani, IGNOU          Swayam           NaN   \n",
       "4                                           NaN         Cybrary           NaN   \n",
       "\n",
       "   course_certificate                  course_subject  course_is_university  \\\n",
       "0                True  Information Security (InfoSec)                  True   \n",
       "1                True  Information Security (InfoSec)                  True   \n",
       "2                True  Information Security (InfoSec)                  True   \n",
       "3                True                   Cybersecurity                  True   \n",
       "4               False                 Ethical Hacking                 False   \n",
       "\n",
       "   course_avg_rating  course_num_rating  ... course_provider_url  \\\n",
       "0            4.75078                321  ...                 NaN   \n",
       "1            4.80769                 52  ...                 NaN   \n",
       "2            4.88889                  9  ...                 NaN   \n",
       "3            4.64316                468  ...                 NaN   \n",
       "4            4.35734                361  ...                 NaN   \n",
       "\n",
       "                                         description  \\\n",
       "0  Explore cybersecurity fundamentals, from crypt...   \n",
       "1  Continue learning how systems are hacked and d...   \n",
       "2  Information security underpins the commercial ...   \n",
       "3  Comprehensive foundation in cyber security cov...   \n",
       "4  Master ethical hacking and penetration testing...   \n",
       "\n",
       "                    duration  start_date                     pricing  \\\n",
       "0  5 weeks, 4-6 hours a week   On-Demand  Free Online Course (Audit)   \n",
       "1  7 weeks, 4-6 hours a week   On-Demand  Free Online Course (Audit)   \n",
       "2                   10 hours   On-Demand            Free Certificate   \n",
       "3                   12 weeks   On-Demand          Free Online Course   \n",
       "4                  On-Demand  Free Video                         NaN   \n",
       "\n",
       "                                           image_url              rating  \\\n",
       "0  https://d3f1iyfxxz8i1e.cloudfront.net/courses/...    5 out of 5 stars   \n",
       "1  https://d3f1iyfxxz8i1e.cloudfront.net/courses/...    5 out of 5 stars   \n",
       "2  https://d3f1iyfxxz8i1e.cloudfront.net/courses/...    5 out of 5 stars   \n",
       "3  https://d3f1iyfxxz8i1e.cloudfront.net/courses/...  4.5 out of 5 stars   \n",
       "4  https://d3f1iyfxxz8i1e.cloudfront.net/courses/...  4.5 out of 5 stars   \n",
       "\n",
       "  is_free language subject_title  \n",
       "0     Yes  English           NaN  \n",
       "1     Yes  English           NaN  \n",
       "2     Yes  English           NaN  \n",
       "3     Yes  English           NaN  \n",
       "4      No  English           NaN  \n",
       "\n",
       "[5 rows x 25 columns]"
      ]
     },
     "execution_count": 7,
     "metadata": {},
     "output_type": "execute_result"
    }
   ],
   "source": [
    "files = [\n",
    "    \"list0.csv\",\n",
    "    \"list1.csv\",\n",
    "    \"one.csv\",\n",
    "    \"list2.csv\",\n",
    "    \"list3.csv\",\n",
    "    \"first15.csv\",\n",
    "    \"second15.csv\",\n",
    "    \"third15.csv\",\n",
    "    \"fourth15.csv\",\n",
    "]\n",
    "dfs = []\n",
    "for file in files:\n",
    "    dfs.append(pd.read_csv(file))\n",
    "\n",
    "df = pd.concat(dfs)\n",
    "df.head()"
   ]
  },
  {
   "cell_type": "code",
   "execution_count": 8,
   "metadata": {},
   "outputs": [
    {
     "data": {
      "text/plain": [
       "(190828, 25)"
      ]
     },
     "execution_count": 8,
     "metadata": {},
     "output_type": "execute_result"
    }
   ],
   "source": [
    "df.shape"
   ]
  },
  {
   "cell_type": "code",
   "execution_count": 9,
   "metadata": {},
   "outputs": [
    {
     "data": {
      "text/plain": [
       "Index(['course_url', 'course_name', 'instructor_name', 'course_provider',\n",
       "       'course_level', 'course_certificate', 'course_subject',\n",
       "       'course_is_university', 'course_avg_rating', 'course_num_rating',\n",
       "       'course_institution', 'course_is_classroom', 'course_is_free',\n",
       "       'course_id', 'course_type', 'course_provider_url', 'description',\n",
       "       'duration', 'start_date', 'pricing', 'image_url', 'rating', 'is_free',\n",
       "       'language', 'subject_title'],\n",
       "      dtype='object')"
      ]
     },
     "execution_count": 9,
     "metadata": {},
     "output_type": "execute_result"
    }
   ],
   "source": [
    "df.columns"
   ]
  },
  {
   "cell_type": "code",
   "execution_count": 10,
   "metadata": {},
   "outputs": [
    {
     "data": {
      "text/plain": [
       "103190"
      ]
     },
     "execution_count": 10,
     "metadata": {},
     "output_type": "execute_result"
    }
   ],
   "source": [
    "df[\"course_id\"].nunique()"
   ]
  },
  {
   "cell_type": "code",
   "execution_count": 6,
   "metadata": {},
   "outputs": [
    {
     "name": "stdout",
     "output_type": "stream",
     "text": [
      "<class 'pandas.core.frame.DataFrame'>\n",
      "Index: 178688 entries, 0 to 14136\n",
      "Data columns (total 25 columns):\n",
      " #   Column                Non-Null Count   Dtype  \n",
      "---  ------                --------------   -----  \n",
      " 0   course_url            178688 non-null  object \n",
      " 1   course_name           178688 non-null  object \n",
      " 2   instructor_name       106817 non-null  object \n",
      " 3   course_provider       178688 non-null  object \n",
      " 4   course_level          44777 non-null   object \n",
      " 5   course_certificate    178688 non-null  bool   \n",
      " 6   course_subject        178688 non-null  object \n",
      " 7   course_is_university  178688 non-null  bool   \n",
      " 8   course_avg_rating     178688 non-null  float64\n",
      " 9   course_num_rating     178688 non-null  int64  \n",
      " 10  course_institution    131781 non-null  object \n",
      " 11  course_is_classroom   178688 non-null  bool   \n",
      " 12  course_is_free        178688 non-null  bool   \n",
      " 13  course_id             178688 non-null  int64  \n",
      " 14  course_type           178688 non-null  object \n",
      " 15  course_provider_url   0 non-null       float64\n",
      " 16  description           147458 non-null  object \n",
      " 17  duration              147458 non-null  object \n",
      " 18  start_date            147458 non-null  object \n",
      " 19  pricing               143237 non-null  object \n",
      " 20  image_url             175327 non-null  object \n",
      " 21  rating                178688 non-null  object \n",
      " 22  is_free               147458 non-null  object \n",
      " 23  language              147458 non-null  object \n",
      " 24  subject_title         31230 non-null   object \n",
      "dtypes: bool(4), float64(2), int64(2), object(17)\n",
      "memory usage: 30.7+ MB\n"
     ]
    }
   ],
   "source": [
    "df.info()"
   ]
  },
  {
   "cell_type": "code",
   "execution_count": 11,
   "metadata": {},
   "outputs": [
    {
     "data": {
      "text/plain": [
       "(103190, 25)"
      ]
     },
     "execution_count": 11,
     "metadata": {},
     "output_type": "execute_result"
    }
   ],
   "source": [
    "df_filter = df.drop_duplicates(subset=[\"course_id\"])\n",
    "df_filter.shape"
   ]
  },
  {
   "cell_type": "code",
   "execution_count": null,
   "metadata": {},
   "outputs": [],
   "source": []
  },
  {
   "cell_type": "code",
   "execution_count": 12,
   "metadata": {},
   "outputs": [],
   "source": [
    "df_filter.to_csv(\"./courses_103190.csv\", index=False)"
   ]
  },
  {
   "cell_type": "code",
   "execution_count": null,
   "metadata": {},
   "outputs": [],
   "source": []
  }
 ],
 "metadata": {
  "kernelspec": {
   "display_name": "scrap",
   "language": "python",
   "name": "python3"
  },
  "language_info": {
   "codemirror_mode": {
    "name": "ipython",
    "version": 3
   },
   "file_extension": ".py",
   "mimetype": "text/x-python",
   "name": "python",
   "nbconvert_exporter": "python",
   "pygments_lexer": "ipython3",
   "version": "3.11.7"
  }
 },
 "nbformat": 4,
 "nbformat_minor": 2
}
